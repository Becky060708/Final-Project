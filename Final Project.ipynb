{
 "cells": [
  {
   "cell_type": "markdown",
   "id": "a8d88a9e-1dff-4c61-8e7e-bb0836a3326d",
   "metadata": {},
   "source": [
    "# My Jupyter Notebook on IBM Watson Studio"
   ]
  },
  {
   "cell_type": "markdown",
   "id": "9bc0a0c2-9067-4718-b520-82d3edf9067f",
   "metadata": {},
   "source": [
    "**Rebecca Mead** <br>\n",
    "Data Scientist"
   ]
  },
  {
   "cell_type": "markdown",
   "id": "f97ebdb2-544c-48d4-a7b1-effd55d323e9",
   "metadata": {},
   "source": [
    "*I am interested in a career as a data scientist because I am analytical, curious, and enjoy picking things apart to figure out what works and what doesn't.*"
   ]
  },
  {
   "cell_type": "markdown",
   "id": "8d6227dd-ad19-4f67-9d1b-101b76d28a97",
   "metadata": {},
   "source": [
    "### In cell 5, my code is supposed to add 1 plus 1"
   ]
  },
  {
   "cell_type": "code",
   "execution_count": 2,
   "id": "d1065b3d-c508-420c-a7f0-cba87bae8e3d",
   "metadata": {},
   "outputs": [
    {
     "data": {
      "text/plain": [
       "2"
      ]
     },
     "execution_count": 2,
     "metadata": {},
     "output_type": "execute_result"
    }
   ],
   "source": [
    "1+1"
   ]
  },
  {
   "cell_type": "markdown",
   "id": "fde1857d-1516-4cc8-8e50-e2b0b3aed886",
   "metadata": {},
   "source": [
    "Groceries:\n",
    "<ul>\n",
    "<li> Milk\n",
    "<li> Eggs\n",
    "<li> Cheese\n",
    "<li> Bread\n",
    "    \n",
    "<hr>\n",
    "\n",
    "To Do:\n",
    "<ol>\n",
    "<li> Clean Bathroom\n",
    "<li> Clean Kitchen\n",
    "<li> Clean Bathroom\n",
    "    \n",
    "    "
   ]
  },
  {
   "cell_type": "code",
   "execution_count": null,
   "id": "878380d1-1cb0-445d-8f73-b1db63a782df",
   "metadata": {},
   "outputs": [],
   "source": []
  }
 ],
 "metadata": {
  "kernelspec": {
   "display_name": "Python",
   "language": "python",
   "name": "conda-env-python-py"
  },
  "language_info": {
   "codemirror_mode": {
    "name": "ipython",
    "version": 3
   },
   "file_extension": ".py",
   "mimetype": "text/x-python",
   "name": "python",
   "nbconvert_exporter": "python",
   "pygments_lexer": "ipython3",
   "version": "3.7.12"
  }
 },
 "nbformat": 4,
 "nbformat_minor": 5
}
